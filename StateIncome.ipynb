{
 "cells": [
  {
   "cell_type": "code",
   "execution_count": 74,
   "metadata": {},
   "outputs": [],
   "source": [
    "import pandas as pd"
   ]
  },
  {
   "cell_type": "code",
   "execution_count": 75,
   "metadata": {},
   "outputs": [],
   "source": [
    "data = pd.read_csv('hate_crimes.csv')"
   ]
  },
  {
   "cell_type": "code",
   "execution_count": 76,
   "metadata": {
    "scrolled": true
   },
   "outputs": [
    {
     "name": "stdout",
     "output_type": "stream",
     "text": [
      "        state  median_household_income  share_unemployed_seasonal  \\\n",
      "0     alabama                    42278                      0.060   \n",
      "1      alaska                    67629                      0.064   \n",
      "2     arizona                    49254                      0.063   \n",
      "3    arkansas                    44922                      0.052   \n",
      "4  california                    60487                      0.059   \n",
      "\n",
      "   share_population_in_metro_areas  share_population_with_high_school_degree  \\\n",
      "0                             0.64                                     0.821   \n",
      "1                             0.63                                     0.914   \n",
      "2                             0.90                                     0.842   \n",
      "3                             0.69                                     0.824   \n",
      "4                             0.97                                     0.806   \n",
      "\n",
      "   share_non_citizen  share_white_poverty  gini_index  share_non_white  \\\n",
      "0               0.02                 0.12       0.472             0.35   \n",
      "1               0.04                 0.06       0.422             0.42   \n",
      "2               0.10                 0.09       0.455             0.49   \n",
      "3               0.04                 0.12       0.458             0.26   \n",
      "4               0.13                 0.09       0.471             0.61   \n",
      "\n",
      "   share_voters_voted_trump  hate_crimes_per_100k_splc  \\\n",
      "0                      0.63                   0.125839   \n",
      "1                      0.53                   0.143740   \n",
      "2                      0.50                   0.225320   \n",
      "3                      0.60                   0.069061   \n",
      "4                      0.33                   0.255805   \n",
      "\n",
      "   avg_hatecrimes_per_100k_fbi  \n",
      "0                     1.806410  \n",
      "1                     1.656700  \n",
      "2                     3.413928  \n",
      "3                     0.869209  \n",
      "4                     2.397986  \n"
     ]
    }
   ],
   "source": [
    "print(data.head())"
   ]
  },
  {
   "cell_type": "code",
   "execution_count": 77,
   "metadata": {},
   "outputs": [],
   "source": [
    "import matplotlib.pyplot as plt "
   ]
  },
  {
   "cell_type": "code",
   "execution_count": 78,
   "metadata": {},
   "outputs": [],
   "source": [
    "import numpy as np"
   ]
  },
  {
   "cell_type": "code",
   "execution_count": 79,
   "metadata": {},
   "outputs": [],
   "source": [
    "dataf = pd.DataFrame(data=data)"
   ]
  },
  {
   "cell_type": "code",
   "execution_count": 80,
   "metadata": {},
   "outputs": [],
   "source": [
    "dataf1=dataf[0:5]"
   ]
  },
  {
   "cell_type": "code",
   "execution_count": 81,
   "metadata": {},
   "outputs": [
    {
     "data": {
      "text/plain": [
       "Text(0, 0.5, 'Crimes and Population')"
      ]
     },
     "execution_count": 81,
     "metadata": {},
     "output_type": "execute_result"
    },
    {
     "data": {
      "image/png": "[encoded data removed]",
      "text/plain": [
       "<Figure size 432x288 with 1 Axes>"
      ]
     },
     "metadata": {
      "needs_background": "light"
     },
     "output_type": "display_data"
    }
   ],
   "source": [
    "\n",
    "dataf1.plot.bar('state', ['avg_hatecrimes_per_100k_fbi','share_population_in_metro_areas']) \n",
    "plt.title(\"Hate Crimes and Metro Population By State\") \n",
    "plt.xlabel(\"State\") \n",
    "plt.ylabel(\"Crimes and Population\")\n"
   ]
  }
 ],
 "metadata": {
  "kernelspec": {
   "display_name": "Python 3",
   "language": "python",
   "name": "python3"
  },
  "language_info": {
   "codemirror_mode": {
    "name": "ipython",
    "version": 3
   },
   "file_extension": ".py",
   "mimetype": "text/x-python",
   "name": "python",
   "nbconvert_exporter": "python",
   "pygments_lexer": "ipython3",
   "version": "3.6.9"
  }
 },
 "nbformat": 4,
 "nbformat_minor": 2
}
